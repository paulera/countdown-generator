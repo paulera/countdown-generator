{
 "cells": [
  {
   "cell_type": "code",
   "execution_count": 1,
   "metadata": {},
   "outputs": [],
   "source": [
    "config = {\n",
    "    'time': '01:00',\n",
    "    \n",
    "    'auto_size': False,\n",
    "    'W': 660, # ignored when auto_size = True\n",
    "    'H': 200, # ignored when auto_size = True\n",
    "    \n",
    "    'auto_center': True,\n",
    "    'x': 100, # ignored when auto_center = True\n",
    "    'y': 10, # ignored when auto_center = True\n",
    "    \n",
    "    'font_size': 200,\n",
    "    # 'font_face': '/Library/Fonts/Arial Rounded Bold.ttf',\n",
    "    'font_face': '/Users/paulo/Library/Fonts/From Cartoon Blocks.ttf',\n",
    "    'text_color': '#000000',\n",
    "    'bg_color': '#ffffff',\n",
    "    \n",
    "    'fps': 10,\n",
    "    'make_gif': 0,\n",
    "    'make_zero': 1,\n",
    "    'make_mp4': 1\n",
    "}"
   ]
  },
  {
   "cell_type": "code",
   "execution_count": 2,
   "metadata": {},
   "outputs": [],
   "source": [
    "# REFERENCE\n",
    "# https://stackoverflow.com/questions/43060479/how-to-get-the-font-pixel-height-using-pil-imagefont\n",
    "# https://pillow.readthedocs.io/en/3.1.x/reference/ImageFont.html"
   ]
  },
  {
   "cell_type": "code",
   "execution_count": 3,
   "metadata": {},
   "outputs": [],
   "source": [
    "import string\n",
    "from PIL import Image, ImageDraw, ImageFont\n",
    "import re\n",
    "import datetime, time\n",
    "import os\n",
    "import cv2"
   ]
  },
  {
   "cell_type": "code",
   "execution_count": 13,
   "metadata": {},
   "outputs": [
    {
     "ename": "SyntaxError",
     "evalue": "unexpected EOF while parsing (<ipython-input-13-77d3018e11f0>, line 1)",
     "output_type": "error",
     "traceback": [
      "\u001b[0;36m  File \u001b[0;32m\"<ipython-input-13-77d3018e11f0>\"\u001b[0;36m, line \u001b[0;32m1\u001b[0m\n\u001b[0;31m    def generate_countdown(config):\u001b[0m\n\u001b[0m                                   ^\u001b[0m\n\u001b[0;31mSyntaxError\u001b[0m\u001b[0;31m:\u001b[0m unexpected EOF while parsing\n"
     ]
    }
   ],
   "source": [
    "def generate_countdown(config):"
   ]
  },
  {
   "cell_type": "code",
   "execution_count": 4,
   "metadata": {},
   "outputs": [],
   "source": [
    "time_multipliers = [1, 60, 3600] # time parts will be reversed too to acomodate all lenghts of time.\n",
    "\n",
    "time_string = config['time']\n",
    "font_size = int(config['font_size'])\n",
    "W = int(config['W'])\n",
    "H = int(config['H'])\n",
    "text_color = config['text_color']\n",
    "bg_color = config['bg_color']\n",
    "font_face = config['font_face']\n",
    "font_face_for_filepath = re.compile('[^0-9a-z]+').sub('', os.path.basename(font_face).lower())\n",
    "fps = int(config['fps'])\n",
    "make_gif = 1 and int(config['make_gif'])\n",
    "make_zero = 1 and int(config['make_zero'])\n",
    "make_mp4 = 1 and int(config['make_mp4'])\n",
    "auto_center = 1 and int(config['auto_center'])\n",
    "auto_size = 1 and int(config['auto_size'])\n",
    "x = int(config['x'])\n",
    "y = int(config['y'])"
   ]
  },
  {
   "cell_type": "code",
   "execution_count": 5,
   "metadata": {},
   "outputs": [],
   "source": [
    "# PARAMETERS\n",
    "time_parts_factors = list(zip(reversed(time_string.split(':')), time_multipliers))\n",
    "time_parts_multiplied = [ int('0' + a.replace(' ','')) * b for a,b in time_parts_factors ]\n",
    "seconds = sum(time_parts_multiplied)\n",
    "\n",
    "if seconds > 10 * time_multipliers[2]: # 24 hours\n",
    "    seconds = 10\n",
    "    raise ValueError('Time can\\'t be higher than 10:00:00')"
   ]
  },
  {
   "cell_type": "code",
   "execution_count": 6,
   "metadata": {},
   "outputs": [],
   "source": [
    "# OBJECTS and ADDITIONAL METRICS\n",
    "slice_position = 0\n",
    "if seconds < 60 * 60:\n",
    "    slice_position = 2\n",
    "initial_text = str(datetime.timedelta(seconds=seconds))[slice_position:] # necessary for base calculations.\n",
    "fnt = ImageFont.truetype(font_face, font_size)\n",
    "box = fnt.getmask(initial_text).getbbox()\n",
    "if auto_size:\n",
    "    W, H = int(box[2] * 1.1), int(box[3] * 1.4)\n",
    "img = Image.new('RGBA', (W,H), color = bg_color)\n",
    "draw = ImageDraw.Draw(img)\n",
    "(width, baseline), (offset_x, offset_y) = fnt.font.getsize(initial_text)\n",
    "w, h = draw.textsize(initial_text, font=fnt)"
   ]
  },
  {
   "cell_type": "code",
   "execution_count": 7,
   "metadata": {
    "scrolled": false
   },
   "outputs": [],
   "source": [
    "# GENERATE FOLDER AND FILES\n",
    "style_folder = '_'.join(map(str, [\n",
    "    W,\n",
    "    H,\n",
    "    font_size,\n",
    "    text_color.replace('#',''),\n",
    "    bg_color.replace('#',''),\n",
    "    font_face_for_filepath\n",
    "]))\n",
    "if not os.path.isdir(style_folder):\n",
    "    os.mkdir(style_folder)"
   ]
  },
  {
   "cell_type": "code",
   "execution_count": 8,
   "metadata": {},
   "outputs": [],
   "source": [
    "frames = []\n",
    "for t in range(seconds, -1, -1):\n",
    "    text = str(datetime.timedelta(seconds=t))[slice_position:]\n",
    "    img = Image.new('RGB', (W,H), color=bg_color)\n",
    "    draw = ImageDraw.Draw(img)\n",
    "    if auto_center:\n",
    "        x = (W-w-offset_x)/2\n",
    "        y = (H-h-offset_y)/2\n",
    "    draw.text((x,y), text, fill=text_color, font=fnt)\n",
    "    frames.append(img)"
   ]
  },
  {
   "cell_type": "code",
   "execution_count": 9,
   "metadata": {},
   "outputs": [],
   "source": [
    "if make_gif:\n",
    "    gif_filename = os.path.join(style_folder, str(datetime.timedelta(seconds=seconds)).replace(':', '_') + '.gif')\n",
    "    frames[0].save(\n",
    "        gif_filename,\n",
    "        format='GIF',\n",
    "        append_images=frames[1:],\n",
    "        save_all=True,\n",
    "        duration=int(1000/fps),\n",
    "        loop=0,\n",
    "        transparency=0,\n",
    "        disposal=2\n",
    "    )"
   ]
  },
  {
   "cell_type": "code",
   "execution_count": 10,
   "metadata": {},
   "outputs": [],
   "source": [
    "if make_zero:\n",
    "    zero_filename = 'zero.png'\n",
    "    frames[len(frames) - 1].save(os.path.join(style_folder, zero_filename))\n",
    "    first_frame_filename = str(datetime.timedelta(seconds=seconds)).replace(':', '_') + '-static.png'\n",
    "    frames[0].save(os.path.join(style_folder, first_frame_filename))"
   ]
  },
  {
   "cell_type": "code",
   "execution_count": 11,
   "metadata": {},
   "outputs": [],
   "source": [
    "if make_mp4:\n",
    "    video_filename = os.path.join(style_folder, str(datetime.timedelta(seconds=seconds)).replace(':', '_') + '.mp4')\n",
    "    import numpy as np\n",
    "    fourcc = cv2.VideoWriter_fourcc(*'mp4v') \n",
    "    video = cv2.VideoWriter(video_filename,fourcc, fps, frames[0].size)\n",
    "    for frame in frames:\n",
    "        imtemp = frame.copy()\n",
    "        video.write(np.array(imtemp))\n",
    "    video.release()"
   ]
  },
  {
   "cell_type": "code",
   "execution_count": 12,
   "metadata": {},
   "outputs": [],
   "source": [
    "for frame in frames:\n",
    "    frame.close()"
   ]
  },
  {
   "cell_type": "code",
   "execution_count": null,
   "metadata": {},
   "outputs": [],
   "source": []
  }
 ],
 "metadata": {
  "kernelspec": {
   "display_name": "Python 3",
   "language": "python",
   "name": "python3"
  },
  "language_info": {
   "codemirror_mode": {
    "name": "ipython",
    "version": 3
   },
   "file_extension": ".py",
   "mimetype": "text/x-python",
   "name": "python",
   "nbconvert_exporter": "python",
   "pygments_lexer": "ipython3",
   "version": "3.7.3"
  }
 },
 "nbformat": 4,
 "nbformat_minor": 2
}
